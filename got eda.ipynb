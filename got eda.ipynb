{
 "cells": [
  {
   "cell_type": "code",
   "execution_count": 1,
   "id": "f40c085c",
   "metadata": {},
   "outputs": [],
   "source": [
    "import pandas as pd\n",
    "import numpy as np \n",
    "import seaborn as sns\n",
    "import matplotlib.pyplot as plt\n",
    "%matplotlib inline\n",
    "import warnings\n",
    "warnings.filterwarnings('ignore')"
   ]
  },
  {
   "cell_type": "code",
   "execution_count": 6,
   "id": "21f0cd73",
   "metadata": {},
   "outputs": [
    {
     "data": {
      "text/html": [
       "<div>\n",
       "<style scoped>\n",
       "    .dataframe tbody tr th:only-of-type {\n",
       "        vertical-align: middle;\n",
       "    }\n",
       "\n",
       "    .dataframe tbody tr th {\n",
       "        vertical-align: top;\n",
       "    }\n",
       "\n",
       "    .dataframe thead th {\n",
       "        text-align: right;\n",
       "    }\n",
       "</style>\n",
       "<table border=\"1\" class=\"dataframe\">\n",
       "  <thead>\n",
       "    <tr style=\"text-align: right;\">\n",
       "      <th></th>\n",
       "      <th>Season</th>\n",
       "      <th>Episode</th>\n",
       "      <th>Title</th>\n",
       "      <th>Release_date</th>\n",
       "      <th>Rating</th>\n",
       "      <th>Votes</th>\n",
       "      <th>Summary</th>\n",
       "      <th>Writer_1</th>\n",
       "      <th>Writer_2</th>\n",
       "      <th>Star_1</th>\n",
       "      <th>Star_2</th>\n",
       "      <th>Star_3</th>\n",
       "      <th>Users_reviews</th>\n",
       "      <th>Critics_reviews</th>\n",
       "      <th>US_Viewers</th>\n",
       "      <th>Duration</th>\n",
       "      <th>Director</th>\n",
       "      <th>Budget_estimate</th>\n",
       "    </tr>\n",
       "  </thead>\n",
       "  <tbody>\n",
       "    <tr>\n",
       "      <th>0</th>\n",
       "      <td>1</td>\n",
       "      <td>1</td>\n",
       "      <td>Winter Is Coming</td>\n",
       "      <td>17-Apr-11</td>\n",
       "      <td>9.1</td>\n",
       "      <td>38639</td>\n",
       "      <td>Eddard Stark is torn between his family and an...</td>\n",
       "      <td>David Benioff</td>\n",
       "      <td>D.B. Weiss</td>\n",
       "      <td>Sean Bean</td>\n",
       "      <td>Mark Addy</td>\n",
       "      <td>Nikolaj Coster-Waldau</td>\n",
       "      <td>61</td>\n",
       "      <td>30</td>\n",
       "      <td>2.22</td>\n",
       "      <td>62</td>\n",
       "      <td>Timothy Van Patten</td>\n",
       "      <td>0</td>\n",
       "    </tr>\n",
       "    <tr>\n",
       "      <th>1</th>\n",
       "      <td>1</td>\n",
       "      <td>2</td>\n",
       "      <td>The Kingsroad</td>\n",
       "      <td>24-Apr-11</td>\n",
       "      <td>8.8</td>\n",
       "      <td>29285</td>\n",
       "      <td>While Bran recovers from his fall, Ned takes o...</td>\n",
       "      <td>David Benioff</td>\n",
       "      <td>D.B. Weiss</td>\n",
       "      <td>Sean Bean</td>\n",
       "      <td>Mark Addy</td>\n",
       "      <td>Nikolaj Coster-Waldau</td>\n",
       "      <td>27</td>\n",
       "      <td>28</td>\n",
       "      <td>2.20</td>\n",
       "      <td>56</td>\n",
       "      <td>Timothy Van Patten</td>\n",
       "      <td>0</td>\n",
       "    </tr>\n",
       "    <tr>\n",
       "      <th>2</th>\n",
       "      <td>1</td>\n",
       "      <td>3</td>\n",
       "      <td>Lord Snow</td>\n",
       "      <td>1-May-11</td>\n",
       "      <td>8.7</td>\n",
       "      <td>27694</td>\n",
       "      <td>Jon begins his training with the Night's Watch...</td>\n",
       "      <td>David Benioff</td>\n",
       "      <td>D.B. Weiss</td>\n",
       "      <td>Sean Bean</td>\n",
       "      <td>Mark Addy</td>\n",
       "      <td>Nikolaj Coster-Waldau</td>\n",
       "      <td>21</td>\n",
       "      <td>29</td>\n",
       "      <td>2.44</td>\n",
       "      <td>58</td>\n",
       "      <td>Brian Kirk</td>\n",
       "      <td>0</td>\n",
       "    </tr>\n",
       "    <tr>\n",
       "      <th>3</th>\n",
       "      <td>1</td>\n",
       "      <td>4</td>\n",
       "      <td>Cripples, Bastards, and Broken Things</td>\n",
       "      <td>8-May-11</td>\n",
       "      <td>8.8</td>\n",
       "      <td>26284</td>\n",
       "      <td>Eddard investigates Jon Arryn's murder. Jon be...</td>\n",
       "      <td>David Benioff</td>\n",
       "      <td>D.B. Weiss</td>\n",
       "      <td>Sean Bean</td>\n",
       "      <td>Mark Addy</td>\n",
       "      <td>Nikolaj Coster-Waldau</td>\n",
       "      <td>22</td>\n",
       "      <td>26</td>\n",
       "      <td>2.45</td>\n",
       "      <td>56</td>\n",
       "      <td>Brian Kirk</td>\n",
       "      <td>0</td>\n",
       "    </tr>\n",
       "    <tr>\n",
       "      <th>4</th>\n",
       "      <td>1</td>\n",
       "      <td>5</td>\n",
       "      <td>The Wolf and the Lion</td>\n",
       "      <td>15-May-11</td>\n",
       "      <td>9.1</td>\n",
       "      <td>27349</td>\n",
       "      <td>Catelyn has captured Tyrion and plans to bring...</td>\n",
       "      <td>David Benioff</td>\n",
       "      <td>D.B. Weiss</td>\n",
       "      <td>Sean Bean</td>\n",
       "      <td>Mark Addy</td>\n",
       "      <td>Nikolaj Coster-Waldau</td>\n",
       "      <td>24</td>\n",
       "      <td>26</td>\n",
       "      <td>2.58</td>\n",
       "      <td>55</td>\n",
       "      <td>Brian Kirk</td>\n",
       "      <td>0</td>\n",
       "    </tr>\n",
       "    <tr>\n",
       "      <th>...</th>\n",
       "      <td>...</td>\n",
       "      <td>...</td>\n",
       "      <td>...</td>\n",
       "      <td>...</td>\n",
       "      <td>...</td>\n",
       "      <td>...</td>\n",
       "      <td>...</td>\n",
       "      <td>...</td>\n",
       "      <td>...</td>\n",
       "      <td>...</td>\n",
       "      <td>...</td>\n",
       "      <td>...</td>\n",
       "      <td>...</td>\n",
       "      <td>...</td>\n",
       "      <td>...</td>\n",
       "      <td>...</td>\n",
       "      <td>...</td>\n",
       "      <td>...</td>\n",
       "    </tr>\n",
       "    <tr>\n",
       "      <th>68</th>\n",
       "      <td>8</td>\n",
       "      <td>2</td>\n",
       "      <td>A Knight of the Seven Kingdoms</td>\n",
       "      <td>21-Apr-19</td>\n",
       "      <td>7.9</td>\n",
       "      <td>119961</td>\n",
       "      <td>Jaime faces judgment and Winterfell prepares f...</td>\n",
       "      <td>George R.R. Martin</td>\n",
       "      <td>David Benioff</td>\n",
       "      <td>Peter Dinklage</td>\n",
       "      <td>Nikolaj Coster-Waldau</td>\n",
       "      <td>Emilia Clarke</td>\n",
       "      <td>537</td>\n",
       "      <td>59</td>\n",
       "      <td>10.29</td>\n",
       "      <td>58</td>\n",
       "      <td>David Nutter</td>\n",
       "      <td>0</td>\n",
       "    </tr>\n",
       "    <tr>\n",
       "      <th>69</th>\n",
       "      <td>8</td>\n",
       "      <td>3</td>\n",
       "      <td>The Long Night</td>\n",
       "      <td>28-Apr-19</td>\n",
       "      <td>7.5</td>\n",
       "      <td>200283</td>\n",
       "      <td>The Night King and his army have arrived at Wi...</td>\n",
       "      <td>George R.R. Martin</td>\n",
       "      <td>David Benioff</td>\n",
       "      <td>Peter Dinklage</td>\n",
       "      <td>Nikolaj Coster-Waldau</td>\n",
       "      <td>Emilia Clarke</td>\n",
       "      <td>3749</td>\n",
       "      <td>71</td>\n",
       "      <td>12.02</td>\n",
       "      <td>82</td>\n",
       "      <td>Miguel Sapochnik</td>\n",
       "      <td>0</td>\n",
       "    </tr>\n",
       "    <tr>\n",
       "      <th>70</th>\n",
       "      <td>8</td>\n",
       "      <td>4</td>\n",
       "      <td>The Last of the Starks</td>\n",
       "      <td>5-May-19</td>\n",
       "      <td>5.5</td>\n",
       "      <td>152769</td>\n",
       "      <td>The Battle of Winterfell is over and a new cha...</td>\n",
       "      <td>George R.R. Martin</td>\n",
       "      <td>David Benioff</td>\n",
       "      <td>Peter Dinklage</td>\n",
       "      <td>Nikolaj Coster-Waldau</td>\n",
       "      <td>Lena Headey</td>\n",
       "      <td>2277</td>\n",
       "      <td>62</td>\n",
       "      <td>11.80</td>\n",
       "      <td>78</td>\n",
       "      <td>David Nutter</td>\n",
       "      <td>0</td>\n",
       "    </tr>\n",
       "    <tr>\n",
       "      <th>71</th>\n",
       "      <td>8</td>\n",
       "      <td>5</td>\n",
       "      <td>The Bells</td>\n",
       "      <td>12-May-19</td>\n",
       "      <td>6.0</td>\n",
       "      <td>177957</td>\n",
       "      <td>Forces have arrived at King's Landing for the ...</td>\n",
       "      <td>George R.R. Martin</td>\n",
       "      <td>David Benioff</td>\n",
       "      <td>Peter Dinklage</td>\n",
       "      <td>Nikolaj Coster-Waldau</td>\n",
       "      <td>Lena Headey</td>\n",
       "      <td>3906</td>\n",
       "      <td>61</td>\n",
       "      <td>12.48</td>\n",
       "      <td>78</td>\n",
       "      <td>Miguel Sapochnik</td>\n",
       "      <td>0</td>\n",
       "    </tr>\n",
       "    <tr>\n",
       "      <th>72</th>\n",
       "      <td>8</td>\n",
       "      <td>6</td>\n",
       "      <td>The Iron Throne</td>\n",
       "      <td>19-May-19</td>\n",
       "      <td>4.1</td>\n",
       "      <td>220581</td>\n",
       "      <td>In the aftermath of the devastating attack on ...</td>\n",
       "      <td>George R.R. Martin</td>\n",
       "      <td>David Benioff</td>\n",
       "      <td>Peter Dinklage</td>\n",
       "      <td>Nikolaj Coster-Waldau</td>\n",
       "      <td>Lena Headey</td>\n",
       "      <td>7358</td>\n",
       "      <td>70</td>\n",
       "      <td>13.61</td>\n",
       "      <td>80</td>\n",
       "      <td>David Benioff</td>\n",
       "      <td>0</td>\n",
       "    </tr>\n",
       "  </tbody>\n",
       "</table>\n",
       "<p>73 rows × 18 columns</p>\n",
       "</div>"
      ],
      "text/plain": [
       "    Season  Episode                                  Title Release_date  \\\n",
       "0        1        1                       Winter Is Coming    17-Apr-11   \n",
       "1        1        2                          The Kingsroad    24-Apr-11   \n",
       "2        1        3                              Lord Snow     1-May-11   \n",
       "3        1        4  Cripples, Bastards, and Broken Things     8-May-11   \n",
       "4        1        5                  The Wolf and the Lion    15-May-11   \n",
       "..     ...      ...                                    ...          ...   \n",
       "68       8        2         A Knight of the Seven Kingdoms    21-Apr-19   \n",
       "69       8        3                         The Long Night    28-Apr-19   \n",
       "70       8        4                 The Last of the Starks     5-May-19   \n",
       "71       8        5                              The Bells    12-May-19   \n",
       "72       8        6                        The Iron Throne    19-May-19   \n",
       "\n",
       "    Rating   Votes                                            Summary  \\\n",
       "0      9.1   38639  Eddard Stark is torn between his family and an...   \n",
       "1      8.8   29285  While Bran recovers from his fall, Ned takes o...   \n",
       "2      8.7   27694  Jon begins his training with the Night's Watch...   \n",
       "3      8.8   26284  Eddard investigates Jon Arryn's murder. Jon be...   \n",
       "4      9.1   27349  Catelyn has captured Tyrion and plans to bring...   \n",
       "..     ...     ...                                                ...   \n",
       "68     7.9  119961  Jaime faces judgment and Winterfell prepares f...   \n",
       "69     7.5  200283  The Night King and his army have arrived at Wi...   \n",
       "70     5.5  152769  The Battle of Winterfell is over and a new cha...   \n",
       "71     6.0  177957  Forces have arrived at King's Landing for the ...   \n",
       "72     4.1  220581  In the aftermath of the devastating attack on ...   \n",
       "\n",
       "              Writer_1       Writer_2          Star_1                 Star_2  \\\n",
       "0        David Benioff     D.B. Weiss       Sean Bean              Mark Addy   \n",
       "1        David Benioff     D.B. Weiss       Sean Bean              Mark Addy   \n",
       "2        David Benioff     D.B. Weiss       Sean Bean              Mark Addy   \n",
       "3        David Benioff     D.B. Weiss       Sean Bean              Mark Addy   \n",
       "4        David Benioff     D.B. Weiss       Sean Bean              Mark Addy   \n",
       "..                 ...            ...             ...                    ...   \n",
       "68  George R.R. Martin  David Benioff  Peter Dinklage  Nikolaj Coster-Waldau   \n",
       "69  George R.R. Martin  David Benioff  Peter Dinklage  Nikolaj Coster-Waldau   \n",
       "70  George R.R. Martin  David Benioff  Peter Dinklage  Nikolaj Coster-Waldau   \n",
       "71  George R.R. Martin  David Benioff  Peter Dinklage  Nikolaj Coster-Waldau   \n",
       "72  George R.R. Martin  David Benioff  Peter Dinklage  Nikolaj Coster-Waldau   \n",
       "\n",
       "                   Star_3  Users_reviews  Critics_reviews  US_Viewers  \\\n",
       "0   Nikolaj Coster-Waldau             61               30        2.22   \n",
       "1   Nikolaj Coster-Waldau             27               28        2.20   \n",
       "2   Nikolaj Coster-Waldau             21               29        2.44   \n",
       "3   Nikolaj Coster-Waldau             22               26        2.45   \n",
       "4   Nikolaj Coster-Waldau             24               26        2.58   \n",
       "..                    ...            ...              ...         ...   \n",
       "68          Emilia Clarke            537               59       10.29   \n",
       "69          Emilia Clarke           3749               71       12.02   \n",
       "70            Lena Headey           2277               62       11.80   \n",
       "71            Lena Headey           3906               61       12.48   \n",
       "72            Lena Headey           7358               70       13.61   \n",
       "\n",
       "    Duration            Director  Budget_estimate  \n",
       "0         62  Timothy Van Patten                0  \n",
       "1         56  Timothy Van Patten                0  \n",
       "2         58          Brian Kirk                0  \n",
       "3         56          Brian Kirk                0  \n",
       "4         55          Brian Kirk                0  \n",
       "..       ...                 ...              ...  \n",
       "68        58        David Nutter                0  \n",
       "69        82    Miguel Sapochnik                0  \n",
       "70        78        David Nutter                0  \n",
       "71        78    Miguel Sapochnik                0  \n",
       "72        80       David Benioff                0  \n",
       "\n",
       "[73 rows x 18 columns]"
      ]
     },
     "execution_count": 6,
     "metadata": {},
     "output_type": "execute_result"
    }
   ],
   "source": [
    "gote=pd.read_csv(r'C:\\Users\\Dell\\Downloads\\archive (14)\\characters_v4.csv')\n",
    "gotc=pd.read_csv(r'C:\\Users\\Dell\\Downloads\\archive (14)\\GOT_episodes_v4.csv')\n",
    "gote\n",
    "gotc\n"
   ]
  },
  {
   "cell_type": "code",
   "execution_count": 7,
   "id": "2cc6d129",
   "metadata": {},
   "outputs": [
    {
     "data": {
      "text/html": [
       "<div>\n",
       "<style scoped>\n",
       "    .dataframe tbody tr th:only-of-type {\n",
       "        vertical-align: middle;\n",
       "    }\n",
       "\n",
       "    .dataframe tbody tr th {\n",
       "        vertical-align: top;\n",
       "    }\n",
       "\n",
       "    .dataframe thead th {\n",
       "        text-align: right;\n",
       "    }\n",
       "</style>\n",
       "<table border=\"1\" class=\"dataframe\">\n",
       "  <thead>\n",
       "    <tr style=\"text-align: right;\">\n",
       "      <th></th>\n",
       "      <th>Character</th>\n",
       "      <th>Actor/ess</th>\n",
       "      <th>Episodes_appeared</th>\n",
       "      <th>First_appearance</th>\n",
       "      <th>Last_appearance</th>\n",
       "    </tr>\n",
       "  </thead>\n",
       "  <tbody>\n",
       "    <tr>\n",
       "      <th>0</th>\n",
       "      <td>Tyrion Lannister</td>\n",
       "      <td>Peter Dinklage</td>\n",
       "      <td>67</td>\n",
       "      <td>2011</td>\n",
       "      <td>2019</td>\n",
       "    </tr>\n",
       "    <tr>\n",
       "      <th>1</th>\n",
       "      <td>Cersei Lannister</td>\n",
       "      <td>Lena Headey</td>\n",
       "      <td>62</td>\n",
       "      <td>2011</td>\n",
       "      <td>2019</td>\n",
       "    </tr>\n",
       "    <tr>\n",
       "      <th>2</th>\n",
       "      <td>Daenerys Targaryen</td>\n",
       "      <td>Emilia Clarke</td>\n",
       "      <td>62</td>\n",
       "      <td>2011</td>\n",
       "      <td>2019</td>\n",
       "    </tr>\n",
       "    <tr>\n",
       "      <th>3</th>\n",
       "      <td>Jon Snow</td>\n",
       "      <td>Kit Harington</td>\n",
       "      <td>62</td>\n",
       "      <td>2011</td>\n",
       "      <td>2019</td>\n",
       "    </tr>\n",
       "    <tr>\n",
       "      <th>4</th>\n",
       "      <td>Sansa Stark</td>\n",
       "      <td>Sophie Turner</td>\n",
       "      <td>59</td>\n",
       "      <td>2011</td>\n",
       "      <td>2019</td>\n",
       "    </tr>\n",
       "  </tbody>\n",
       "</table>\n",
       "</div>"
      ],
      "text/plain": [
       "            Character       Actor/ess  Episodes_appeared  First_appearance  \\\n",
       "0    Tyrion Lannister  Peter Dinklage                 67              2011   \n",
       "1    Cersei Lannister     Lena Headey                 62              2011   \n",
       "2  Daenerys Targaryen   Emilia Clarke                 62              2011   \n",
       "3            Jon Snow   Kit Harington                 62              2011   \n",
       "4         Sansa Stark   Sophie Turner                 59              2011   \n",
       "\n",
       "   Last_appearance  \n",
       "0             2019  \n",
       "1             2019  \n",
       "2             2019  \n",
       "3             2019  \n",
       "4             2019  "
      ]
     },
     "execution_count": 7,
     "metadata": {},
     "output_type": "execute_result"
    }
   ],
   "source": [
    "gote.head()"
   ]
  },
  {
   "cell_type": "code",
   "execution_count": 8,
   "id": "43a0fd31",
   "metadata": {},
   "outputs": [
    {
     "data": {
      "text/html": [
       "<div>\n",
       "<style scoped>\n",
       "    .dataframe tbody tr th:only-of-type {\n",
       "        vertical-align: middle;\n",
       "    }\n",
       "\n",
       "    .dataframe tbody tr th {\n",
       "        vertical-align: top;\n",
       "    }\n",
       "\n",
       "    .dataframe thead th {\n",
       "        text-align: right;\n",
       "    }\n",
       "</style>\n",
       "<table border=\"1\" class=\"dataframe\">\n",
       "  <thead>\n",
       "    <tr style=\"text-align: right;\">\n",
       "      <th></th>\n",
       "      <th>Character</th>\n",
       "      <th>Actor/ess</th>\n",
       "      <th>Episodes_appeared</th>\n",
       "      <th>First_appearance</th>\n",
       "      <th>Last_appearance</th>\n",
       "    </tr>\n",
       "  </thead>\n",
       "  <tbody>\n",
       "    <tr>\n",
       "      <th>827</th>\n",
       "      <td>Wildling Wight</td>\n",
       "      <td>Chris Stapleton</td>\n",
       "      <td>1</td>\n",
       "      <td>2019</td>\n",
       "      <td>2019</td>\n",
       "    </tr>\n",
       "    <tr>\n",
       "      <th>828</th>\n",
       "      <td>Ironborn #2</td>\n",
       "      <td>Martin Starr</td>\n",
       "      <td>1</td>\n",
       "      <td>2019</td>\n",
       "      <td>2019</td>\n",
       "    </tr>\n",
       "    <tr>\n",
       "      <th>829</th>\n",
       "      <td>Soldier</td>\n",
       "      <td>Vasco Temudo</td>\n",
       "      <td>1</td>\n",
       "      <td>2019</td>\n",
       "      <td>2019</td>\n",
       "    </tr>\n",
       "    <tr>\n",
       "      <th>830</th>\n",
       "      <td>Wildling #1</td>\n",
       "      <td>D.B. Weiss</td>\n",
       "      <td>1</td>\n",
       "      <td>2019</td>\n",
       "      <td>2019</td>\n",
       "    </tr>\n",
       "    <tr>\n",
       "      <th>831</th>\n",
       "      <td>Wight</td>\n",
       "      <td>Gareth Wright</td>\n",
       "      <td>1</td>\n",
       "      <td>2019</td>\n",
       "      <td>2019</td>\n",
       "    </tr>\n",
       "  </tbody>\n",
       "</table>\n",
       "</div>"
      ],
      "text/plain": [
       "          Character        Actor/ess  Episodes_appeared  First_appearance  \\\n",
       "827  Wildling Wight  Chris Stapleton                  1              2019   \n",
       "828     Ironborn #2     Martin Starr                  1              2019   \n",
       "829         Soldier     Vasco Temudo                  1              2019   \n",
       "830     Wildling #1       D.B. Weiss                  1              2019   \n",
       "831           Wight    Gareth Wright                  1              2019   \n",
       "\n",
       "     Last_appearance  \n",
       "827             2019  \n",
       "828             2019  \n",
       "829             2019  \n",
       "830             2019  \n",
       "831             2019  "
      ]
     },
     "execution_count": 8,
     "metadata": {},
     "output_type": "execute_result"
    }
   ],
   "source": [
    "gote.tail()"
   ]
  },
  {
   "cell_type": "code",
   "execution_count": 9,
   "id": "e13bf47b",
   "metadata": {},
   "outputs": [
    {
     "data": {
      "text/plain": [
       "0"
      ]
     },
     "execution_count": 9,
     "metadata": {},
     "output_type": "execute_result"
    }
   ],
   "source": [
    "gote.duplicated().sum()"
   ]
  },
  {
   "cell_type": "code",
   "execution_count": 12,
   "id": "574664e6",
   "metadata": {},
   "outputs": [
    {
     "data": {
      "text/plain": [
       "(832, 5)"
      ]
     },
     "execution_count": 12,
     "metadata": {},
     "output_type": "execute_result"
    }
   ],
   "source": [
    "gote.shape"
   ]
  },
  {
   "cell_type": "code",
   "execution_count": 13,
   "id": "3a6a67cd",
   "metadata": {},
   "outputs": [
    {
     "name": "stdout",
     "output_type": "stream",
     "text": [
      "<class 'pandas.core.frame.DataFrame'>\n",
      "RangeIndex: 832 entries, 0 to 831\n",
      "Data columns (total 5 columns):\n",
      " #   Column             Non-Null Count  Dtype \n",
      "---  ------             --------------  ----- \n",
      " 0   Character          819 non-null    object\n",
      " 1   Actor/ess          832 non-null    object\n",
      " 2   Episodes_appeared  832 non-null    int64 \n",
      " 3   First_appearance   832 non-null    int64 \n",
      " 4   Last_appearance    832 non-null    int64 \n",
      "dtypes: int64(3), object(2)\n",
      "memory usage: 32.6+ KB\n"
     ]
    }
   ],
   "source": [
    "gote.info()"
   ]
  },
  {
   "cell_type": "code",
   "execution_count": 15,
   "id": "eb5c0dc2",
   "metadata": {},
   "outputs": [
    {
     "name": "stdout",
     "output_type": "stream",
     "text": [
      "<class 'pandas.core.frame.DataFrame'>\n",
      "RangeIndex: 73 entries, 0 to 72\n",
      "Data columns (total 18 columns):\n",
      " #   Column           Non-Null Count  Dtype  \n",
      "---  ------           --------------  -----  \n",
      " 0   Season           73 non-null     int64  \n",
      " 1   Episode          73 non-null     int64  \n",
      " 2   Title            73 non-null     object \n",
      " 3   Release_date     73 non-null     object \n",
      " 4   Rating           73 non-null     float64\n",
      " 5   Votes            73 non-null     int64  \n",
      " 6   Summary          73 non-null     object \n",
      " 7   Writer_1         73 non-null     object \n",
      " 8   Writer_2         73 non-null     object \n",
      " 9   Star_1           73 non-null     object \n",
      " 10  Star_2           73 non-null     object \n",
      " 11  Star_3           73 non-null     object \n",
      " 12  Users_reviews    73 non-null     int64  \n",
      " 13  Critics_reviews  73 non-null     int64  \n",
      " 14  US_Viewers       73 non-null     float64\n",
      " 15  Duration         73 non-null     int64  \n",
      " 16  Director         73 non-null     object \n",
      " 17  Budget_estimate  73 non-null     int64  \n",
      "dtypes: float64(2), int64(7), object(9)\n",
      "memory usage: 10.4+ KB\n"
     ]
    }
   ],
   "source": [
    "gotc.info()"
   ]
  },
  {
   "cell_type": "code",
   "execution_count": 20,
   "id": "ba9bf955",
   "metadata": {},
   "outputs": [
    {
     "data": {
      "text/plain": [
       "1    10\n",
       "2    10\n",
       "3    10\n",
       "4    10\n",
       "5    10\n",
       "6    10\n",
       "7     7\n",
       "8     6\n",
       "Name: Season, dtype: int64"
      ]
     },
     "execution_count": 20,
     "metadata": {},
     "output_type": "execute_result"
    }
   ],
   "source": [
    "  ##EDA##\n",
    "gotc.head()\n",
    "gotc['Season'].value_counts().sort_index()"
   ]
  },
  {
   "cell_type": "code",
   "execution_count": 22,
   "id": "85705e01",
   "metadata": {},
   "outputs": [
    {
     "data": {
      "text/plain": [
       "<Axes: title={'center': 'Count of episodes'}, xlabel='Season', ylabel='count'>"
      ]
     },
     "execution_count": 22,
     "metadata": {},
     "output_type": "execute_result"
    },
    {
     "data": {
      "image/png": "[encoded data removed]",
      "text/plain": [
       "<Figure size 1000x500 with 1 Axes>"
      ]
     },
     "metadata": {},
     "output_type": "display_data"
    }
   ],
   "source": [
    "plt.figure(figsize=(10,5))\n",
    "plt.xlabel(\"Season\")\n",
    "plt.title(\"Count of episodes\")\n",
    "sns.countplot(x = \"Season\", data = gotc, palette='rocket')"
   ]
  },
  {
   "cell_type": "markdown",
   "id": "b75d6276",
   "metadata": {},
   "source": [
    "*From above table and plot, we can observe that from Season 1 to Season 6 there were 10 epiosdes in each season. Season 7 had 7 and Season 8 had 6 episodes respectively."
   ]
  },
  {
   "cell_type": "code",
   "execution_count": 23,
   "id": "0a10ef69",
   "metadata": {},
   "outputs": [
    {
     "data": {
      "text/html": [
       "<div>\n",
       "<style scoped>\n",
       "    .dataframe tbody tr th:only-of-type {\n",
       "        vertical-align: middle;\n",
       "    }\n",
       "\n",
       "    .dataframe tbody tr th {\n",
       "        vertical-align: top;\n",
       "    }\n",
       "\n",
       "    .dataframe thead th {\n",
       "        text-align: right;\n",
       "    }\n",
       "</style>\n",
       "<table border=\"1\" class=\"dataframe\">\n",
       "  <thead>\n",
       "    <tr style=\"text-align: right;\">\n",
       "      <th></th>\n",
       "      <th>Season</th>\n",
       "      <th>Duration</th>\n",
       "    </tr>\n",
       "  </thead>\n",
       "  <tbody>\n",
       "    <tr>\n",
       "      <th>0</th>\n",
       "      <td>1</td>\n",
       "      <td>567</td>\n",
       "    </tr>\n",
       "    <tr>\n",
       "      <th>1</th>\n",
       "      <td>2</td>\n",
       "      <td>549</td>\n",
       "    </tr>\n",
       "    <tr>\n",
       "      <th>2</th>\n",
       "      <td>3</td>\n",
       "      <td>558</td>\n",
       "    </tr>\n",
       "    <tr>\n",
       "      <th>3</th>\n",
       "      <td>4</td>\n",
       "      <td>545</td>\n",
       "    </tr>\n",
       "    <tr>\n",
       "      <th>4</th>\n",
       "      <td>5</td>\n",
       "      <td>563</td>\n",
       "    </tr>\n",
       "    <tr>\n",
       "      <th>5</th>\n",
       "      <td>6</td>\n",
       "      <td>562</td>\n",
       "    </tr>\n",
       "    <tr>\n",
       "      <th>6</th>\n",
       "      <td>7</td>\n",
       "      <td>440</td>\n",
       "    </tr>\n",
       "    <tr>\n",
       "      <th>7</th>\n",
       "      <td>8</td>\n",
       "      <td>430</td>\n",
       "    </tr>\n",
       "  </tbody>\n",
       "</table>\n",
       "</div>"
      ],
      "text/plain": [
       "   Season  Duration\n",
       "0       1       567\n",
       "1       2       549\n",
       "2       3       558\n",
       "3       4       545\n",
       "4       5       563\n",
       "5       6       562\n",
       "6       7       440\n",
       "7       8       430"
      ]
     },
     "execution_count": 23,
     "metadata": {},
     "output_type": "execute_result"
    }
   ],
   "source": [
    "got_season_duration = gotc.groupby('Season').Duration.sum().to_frame().reset_index()\n",
    "got_season_duration"
   ]
  },
  {
   "cell_type": "code",
   "execution_count": 24,
   "id": "776fb059",
   "metadata": {},
   "outputs": [
    {
     "data": {
      "text/plain": [
       "(300.0, 600.0)"
      ]
     },
     "execution_count": 24,
     "metadata": {},
     "output_type": "execute_result"
    },
    {
     "data": {
      "image/png": "[encoded data removed]",
      "text/plain": [
       "<Figure size 1000x500 with 1 Axes>"
      ]
     },
     "metadata": {},
     "output_type": "display_data"
    }
   ],
   "source": [
    "plt.figure(figsize=(10,5))\n",
    "sns.barplot(x=got_season_duration.Season, y=got_season_duration.Duration, palette='flare')\n",
    "plt.title('Total Duration of each Season', fontsize=15)\n",
    "plt.xlabel('Duration')\n",
    "plt.ylabel('Season')\n",
    "plt.xticks(fontsize=12)\n",
    "plt.yticks(fontsize=12)\n",
    "plt.ylim(300, 600)"
   ]
  },
  {
   "cell_type": "markdown",
   "id": "7a9f3f11",
   "metadata": {},
   "source": [
    "* From above table and plot, longest season 1 is with 567 mins and shortest season 8 is with 420 mins. Also, not to forget the season 8 had less episodes compared to other seasons"
   ]
  },
  {
   "cell_type": "code",
   "execution_count": 25,
   "id": "724dbfdc",
   "metadata": {},
   "outputs": [
    {
     "data": {
      "text/html": [
       "<div>\n",
       "<style scoped>\n",
       "    .dataframe tbody tr th:only-of-type {\n",
       "        vertical-align: middle;\n",
       "    }\n",
       "\n",
       "    .dataframe tbody tr th {\n",
       "        vertical-align: top;\n",
       "    }\n",
       "\n",
       "    .dataframe thead th {\n",
       "        text-align: right;\n",
       "    }\n",
       "</style>\n",
       "<table border=\"1\" class=\"dataframe\">\n",
       "  <thead>\n",
       "    <tr style=\"text-align: right;\">\n",
       "      <th></th>\n",
       "      <th>Season</th>\n",
       "      <th>Average Rating</th>\n",
       "    </tr>\n",
       "  </thead>\n",
       "  <tbody>\n",
       "    <tr>\n",
       "      <th>3</th>\n",
       "      <td>4</td>\n",
       "      <td>9.300000</td>\n",
       "    </tr>\n",
       "    <tr>\n",
       "      <th>0</th>\n",
       "      <td>1</td>\n",
       "      <td>9.100000</td>\n",
       "    </tr>\n",
       "    <tr>\n",
       "      <th>6</th>\n",
       "      <td>7</td>\n",
       "      <td>9.100000</td>\n",
       "    </tr>\n",
       "    <tr>\n",
       "      <th>5</th>\n",
       "      <td>6</td>\n",
       "      <td>9.060000</td>\n",
       "    </tr>\n",
       "    <tr>\n",
       "      <th>2</th>\n",
       "      <td>3</td>\n",
       "      <td>9.050000</td>\n",
       "    </tr>\n",
       "    <tr>\n",
       "      <th>1</th>\n",
       "      <td>2</td>\n",
       "      <td>8.960000</td>\n",
       "    </tr>\n",
       "    <tr>\n",
       "      <th>4</th>\n",
       "      <td>5</td>\n",
       "      <td>8.830000</td>\n",
       "    </tr>\n",
       "    <tr>\n",
       "      <th>7</th>\n",
       "      <td>8</td>\n",
       "      <td>6.433333</td>\n",
       "    </tr>\n",
       "  </tbody>\n",
       "</table>\n",
       "</div>"
      ],
      "text/plain": [
       "   Season  Average Rating\n",
       "3       4        9.300000\n",
       "0       1        9.100000\n",
       "6       7        9.100000\n",
       "5       6        9.060000\n",
       "2       3        9.050000\n",
       "1       2        8.960000\n",
       "4       5        8.830000\n",
       "7       8        6.433333"
      ]
     },
     "execution_count": 25,
     "metadata": {},
     "output_type": "execute_result"
    }
   ],
   "source": [
    "got_season_rating = gotc.groupby('Season').mean().Rating.to_frame().reset_index()\n",
    "got_season_rating.columns = ['Season','Average Rating']\n",
    "got_season_rating = got_season_rating.sort_values('Average Rating', ascending=False)\n",
    "got_season_rating"
   ]
  },
  {
   "cell_type": "code",
   "execution_count": 26,
   "id": "8ad0a05f",
   "metadata": {},
   "outputs": [
    {
     "data": {
      "text/plain": [
       "(5.0, 10.0)"
      ]
     },
     "execution_count": 26,
     "metadata": {},
     "output_type": "execute_result"
    },
    {
     "data": {
      "image/png": "[encoded data removed]",
      "text/plain": [
       "<Figure size 1000x500 with 1 Axes>"
      ]
     },
     "metadata": {},
     "output_type": "display_data"
    }
   ],
   "source": [
    "plt.figure(figsize=(10,5))\n",
    "sns.barplot(y=got_season_rating.Season, x=got_season_rating['Average Rating'], palette='twilight', orient='h')\n",
    "plt.title('Avg IMDB Rating each Season', fontsize=15)\n",
    "plt.xlabel('Avg Rating')\n",
    "plt.ylabel('Season')\n",
    "plt.xticks(fontsize=12)\n",
    "plt.yticks(fontsize=12)\n",
    "plt.xlim(5, 10)"
   ]
  },
  {
   "cell_type": "markdown",
   "id": "108b8a73",
   "metadata": {},
   "source": [
    "* From above table and plot, it is quite evident that 4th season has the highest average rating followed by 1st season while the last 8th season has the lowest average ratings."
   ]
  },
  {
   "cell_type": "code",
   "execution_count": 27,
   "id": "b275208b",
   "metadata": {},
   "outputs": [
    {
     "data": {
      "text/html": [
       "<div>\n",
       "<style scoped>\n",
       "    .dataframe tbody tr th:only-of-type {\n",
       "        vertical-align: middle;\n",
       "    }\n",
       "\n",
       "    .dataframe tbody tr th {\n",
       "        vertical-align: top;\n",
       "    }\n",
       "\n",
       "    .dataframe thead th {\n",
       "        text-align: right;\n",
       "    }\n",
       "</style>\n",
       "<table border=\"1\" class=\"dataframe\">\n",
       "  <thead>\n",
       "    <tr style=\"text-align: right;\">\n",
       "      <th></th>\n",
       "      <th>Season</th>\n",
       "      <th>Title</th>\n",
       "      <th>Rating</th>\n",
       "    </tr>\n",
       "  </thead>\n",
       "  <tbody>\n",
       "    <tr>\n",
       "      <th>0</th>\n",
       "      <td>6</td>\n",
       "      <td>The Winds of Winter</td>\n",
       "      <td>9.9</td>\n",
       "    </tr>\n",
       "    <tr>\n",
       "      <th>1</th>\n",
       "      <td>5</td>\n",
       "      <td>Hardhome</td>\n",
       "      <td>9.9</td>\n",
       "    </tr>\n",
       "    <tr>\n",
       "      <th>2</th>\n",
       "      <td>6</td>\n",
       "      <td>Battle of the Bastards</td>\n",
       "      <td>9.9</td>\n",
       "    </tr>\n",
       "    <tr>\n",
       "      <th>3</th>\n",
       "      <td>3</td>\n",
       "      <td>The Rains of Castamere</td>\n",
       "      <td>9.9</td>\n",
       "    </tr>\n",
       "    <tr>\n",
       "      <th>4</th>\n",
       "      <td>7</td>\n",
       "      <td>The Spoils of War</td>\n",
       "      <td>9.8</td>\n",
       "    </tr>\n",
       "    <tr>\n",
       "      <th>5</th>\n",
       "      <td>2</td>\n",
       "      <td>Blackwater</td>\n",
       "      <td>9.7</td>\n",
       "    </tr>\n",
       "    <tr>\n",
       "      <th>6</th>\n",
       "      <td>4</td>\n",
       "      <td>The Children</td>\n",
       "      <td>9.7</td>\n",
       "    </tr>\n",
       "    <tr>\n",
       "      <th>7</th>\n",
       "      <td>4</td>\n",
       "      <td>The Lion and the Rose</td>\n",
       "      <td>9.7</td>\n",
       "    </tr>\n",
       "    <tr>\n",
       "      <th>8</th>\n",
       "      <td>4</td>\n",
       "      <td>The Laws of Gods and Men</td>\n",
       "      <td>9.7</td>\n",
       "    </tr>\n",
       "    <tr>\n",
       "      <th>9</th>\n",
       "      <td>6</td>\n",
       "      <td>The Door</td>\n",
       "      <td>9.7</td>\n",
       "    </tr>\n",
       "    <tr>\n",
       "      <th>10</th>\n",
       "      <td>4</td>\n",
       "      <td>The Mountain and the Viper</td>\n",
       "      <td>9.7</td>\n",
       "    </tr>\n",
       "    <tr>\n",
       "      <th>11</th>\n",
       "      <td>3</td>\n",
       "      <td>And Now His Watch Is Ended</td>\n",
       "      <td>9.6</td>\n",
       "    </tr>\n",
       "    <tr>\n",
       "      <th>12</th>\n",
       "      <td>1</td>\n",
       "      <td>Baelor</td>\n",
       "      <td>9.6</td>\n",
       "    </tr>\n",
       "    <tr>\n",
       "      <th>13</th>\n",
       "      <td>4</td>\n",
       "      <td>The Watchers on the Wall</td>\n",
       "      <td>9.6</td>\n",
       "    </tr>\n",
       "    <tr>\n",
       "      <th>14</th>\n",
       "      <td>5</td>\n",
       "      <td>The Dance of Dragons</td>\n",
       "      <td>9.5</td>\n",
       "    </tr>\n",
       "  </tbody>\n",
       "</table>\n",
       "</div>"
      ],
      "text/plain": [
       "    Season                       Title  Rating\n",
       "0        6         The Winds of Winter     9.9\n",
       "1        5                    Hardhome     9.9\n",
       "2        6      Battle of the Bastards     9.9\n",
       "3        3      The Rains of Castamere     9.9\n",
       "4        7           The Spoils of War     9.8\n",
       "5        2                  Blackwater     9.7\n",
       "6        4                The Children     9.7\n",
       "7        4       The Lion and the Rose     9.7\n",
       "8        4    The Laws of Gods and Men     9.7\n",
       "9        6                    The Door     9.7\n",
       "10       4  The Mountain and the Viper     9.7\n",
       "11       3  And Now His Watch Is Ended     9.6\n",
       "12       1                      Baelor     9.6\n",
       "13       4    The Watchers on the Wall     9.6\n",
       "14       5        The Dance of Dragons     9.5"
      ]
     },
     "execution_count": 27,
     "metadata": {},
     "output_type": "execute_result"
    }
   ],
   "source": [
    "got_season_pop_epi = gotc[['Season','Title', 'Rating']].sort_values('Rating', ascending=False).head(15).reset_index(drop=True)\n",
    "got_season_pop_epi"
   ]
  },
  {
   "cell_type": "code",
   "execution_count": 28,
   "id": "c44e5868",
   "metadata": {},
   "outputs": [
    {
     "data": {
      "text/plain": [
       "(9.0, 10.0)"
      ]
     },
     "execution_count": 28,
     "metadata": {},
     "output_type": "execute_result"
    },
    {
     "data": {
      "image/png": "[encoded data removed]",
      "text/plain": [
       "<Figure size 1000x500 with 1 Axes>"
      ]
     },
     "metadata": {},
     "output_type": "display_data"
    }
   ],
   "source": [
    "plt.figure(figsize=(10,5))\n",
    "sns.barplot(y=got_season_pop_epi.Title, x=got_season_pop_epi.Rating, orient='h', palette='mako')\n",
    "plt.title('Top 15 High-Rated Episodes', fontsize=15)\n",
    "plt.xlabel('Rating')\n",
    "plt.ylabel('Episodes')\n",
    "plt.xticks(fontsize=12)\n",
    "plt.yticks(fontsize=12)\n",
    "plt.xlim(9, 10)"
   ]
  },
  {
   "cell_type": "markdown",
   "id": "4b50ede6",
   "metadata": {},
   "source": [
    "* From above table and plot, it is quite evident that 4 episodes are rating almost 9.9 out of 10. That's massive. And out of those 4, 2 of them are from Season 6"
   ]
  },
  {
   "cell_type": "code",
   "execution_count": 29,
   "id": "421de024",
   "metadata": {},
   "outputs": [
    {
     "data": {
      "text/html": [
       "<div>\n",
       "<style scoped>\n",
       "    .dataframe tbody tr th:only-of-type {\n",
       "        vertical-align: middle;\n",
       "    }\n",
       "\n",
       "    .dataframe tbody tr th {\n",
       "        vertical-align: top;\n",
       "    }\n",
       "\n",
       "    .dataframe thead th {\n",
       "        text-align: right;\n",
       "    }\n",
       "</style>\n",
       "<table border=\"1\" class=\"dataframe\">\n",
       "  <thead>\n",
       "    <tr style=\"text-align: right;\">\n",
       "      <th></th>\n",
       "      <th>Season</th>\n",
       "      <th>Title</th>\n",
       "      <th>Rating</th>\n",
       "    </tr>\n",
       "  </thead>\n",
       "  <tbody>\n",
       "    <tr>\n",
       "      <th>0</th>\n",
       "      <td>5</td>\n",
       "      <td>The Wars to Come</td>\n",
       "      <td>8.5</td>\n",
       "    </tr>\n",
       "    <tr>\n",
       "      <th>1</th>\n",
       "      <td>6</td>\n",
       "      <td>No One</td>\n",
       "      <td>8.4</td>\n",
       "    </tr>\n",
       "    <tr>\n",
       "      <th>2</th>\n",
       "      <td>6</td>\n",
       "      <td>Blood of My Blood</td>\n",
       "      <td>8.4</td>\n",
       "    </tr>\n",
       "    <tr>\n",
       "      <th>3</th>\n",
       "      <td>5</td>\n",
       "      <td>Unbowed, Unbent, Unbroken</td>\n",
       "      <td>8.0</td>\n",
       "    </tr>\n",
       "    <tr>\n",
       "      <th>4</th>\n",
       "      <td>8</td>\n",
       "      <td>A Knight of the Seven Kingdoms</td>\n",
       "      <td>7.9</td>\n",
       "    </tr>\n",
       "    <tr>\n",
       "      <th>5</th>\n",
       "      <td>8</td>\n",
       "      <td>Winterfell</td>\n",
       "      <td>7.6</td>\n",
       "    </tr>\n",
       "    <tr>\n",
       "      <th>6</th>\n",
       "      <td>8</td>\n",
       "      <td>The Long Night</td>\n",
       "      <td>7.5</td>\n",
       "    </tr>\n",
       "    <tr>\n",
       "      <th>7</th>\n",
       "      <td>8</td>\n",
       "      <td>The Bells</td>\n",
       "      <td>6.0</td>\n",
       "    </tr>\n",
       "    <tr>\n",
       "      <th>8</th>\n",
       "      <td>8</td>\n",
       "      <td>The Last of the Starks</td>\n",
       "      <td>5.5</td>\n",
       "    </tr>\n",
       "    <tr>\n",
       "      <th>9</th>\n",
       "      <td>8</td>\n",
       "      <td>The Iron Throne</td>\n",
       "      <td>4.1</td>\n",
       "    </tr>\n",
       "  </tbody>\n",
       "</table>\n",
       "</div>"
      ],
      "text/plain": [
       "   Season                           Title  Rating\n",
       "0       5                The Wars to Come     8.5\n",
       "1       6                          No One     8.4\n",
       "2       6               Blood of My Blood     8.4\n",
       "3       5       Unbowed, Unbent, Unbroken     8.0\n",
       "4       8  A Knight of the Seven Kingdoms     7.9\n",
       "5       8                      Winterfell     7.6\n",
       "6       8                  The Long Night     7.5\n",
       "7       8                       The Bells     6.0\n",
       "8       8          The Last of the Starks     5.5\n",
       "9       8                 The Iron Throne     4.1"
      ]
     },
     "execution_count": 29,
     "metadata": {},
     "output_type": "execute_result"
    }
   ],
   "source": [
    "got_season_pop_epi = gotc[['Season','Title', 'Rating']].sort_values('Rating', ascending=False).tail(10).reset_index(drop=True)\n",
    "got_season_pop_epi"
   ]
  },
  {
   "cell_type": "code",
   "execution_count": 30,
   "id": "5f8aaede",
   "metadata": {},
   "outputs": [
    {
     "data": {
      "text/plain": [
       "(3.0, 9.0)"
      ]
     },
     "execution_count": 30,
     "metadata": {},
     "output_type": "execute_result"
    },
    {
     "data": {
      "image/png": "[encoded data removed]",
      "text/plain": [
       "<Figure size 1000x500 with 1 Axes>"
      ]
     },
     "metadata": {},
     "output_type": "display_data"
    }
   ],
   "source": [
    "plt.figure(figsize=(10,5))\n",
    "sns.barplot(y=got_season_pop_epi.Title, x=got_season_pop_epi.Rating, orient='h', palette='YlGn')\n",
    "plt.title('Bottom 10 Low-Rated Episodes', fontsize=15)\n",
    "plt.xlabel('Rating')\n",
    "plt.ylabel('Episodes')\n",
    "plt.xticks(fontsize=12)\n",
    "plt.yticks(fontsize=12)\n",
    "plt.xlim(3, 9)"
   ]
  },
  {
   "cell_type": "markdown",
   "id": "2b6ec6bb",
   "metadata": {},
   "source": [
    "* Not surprised. Out of bottom 10 lowest rated episodes, 6 are from season 8 alone. It means all 6 out of 6 season 8 episodes are lowest rated"
   ]
  },
  {
   "cell_type": "code",
   "execution_count": 31,
   "id": "ab8dd7b3",
   "metadata": {},
   "outputs": [
    {
     "data": {
      "text/plain": [
       "Director\n",
       "David Nutter          9\n",
       "Alan Taylor           7\n",
       "Miguel Sapochnik      6\n",
       "Alex Graves           6\n",
       "Jeremy Podeswa        6\n",
       "Mark Mylod            6\n",
       "Daniel Minahan        5\n",
       "Alik Sakharov         4\n",
       "Michelle MacLaren     4\n",
       "Brian Kirk            3\n",
       "Matt Shakman          2\n",
       "Neil Marshall         2\n",
       "Michael Slovis        2\n",
       "David Petrarca        2\n",
       "Jack Bender           2\n",
       "David Benioff         2\n",
       "Daniel Sackheim       2\n",
       "Timothy Van Patten    2\n",
       "D.B. Weiss            1\n",
       "Name: Title, dtype: int64"
      ]
     },
     "execution_count": 31,
     "metadata": {},
     "output_type": "execute_result"
    }
   ],
   "source": [
    "director_count = gotc.groupby(\"Director\").Title.count().sort_values(ascending=False)\n",
    "director_count"
   ]
  },
  {
   "cell_type": "code",
   "execution_count": 32,
   "id": "228ed304",
   "metadata": {},
   "outputs": [
    {
     "data": {
      "text/plain": [
       "19"
      ]
     },
     "execution_count": 32,
     "metadata": {},
     "output_type": "execute_result"
    }
   ],
   "source": [
    "director_count.count()"
   ]
  },
  {
   "cell_type": "code",
   "execution_count": 33,
   "id": "5adce26e",
   "metadata": {},
   "outputs": [
    {
     "data": {
      "text/html": [
       "<div>\n",
       "<style scoped>\n",
       "    .dataframe tbody tr th:only-of-type {\n",
       "        vertical-align: middle;\n",
       "    }\n",
       "\n",
       "    .dataframe tbody tr th {\n",
       "        vertical-align: top;\n",
       "    }\n",
       "\n",
       "    .dataframe thead th {\n",
       "        text-align: right;\n",
       "    }\n",
       "</style>\n",
       "<table border=\"1\" class=\"dataframe\">\n",
       "  <thead>\n",
       "    <tr style=\"text-align: right;\">\n",
       "      <th></th>\n",
       "      <th>Director</th>\n",
       "      <th>Title</th>\n",
       "    </tr>\n",
       "  </thead>\n",
       "  <tbody>\n",
       "    <tr>\n",
       "      <th>0</th>\n",
       "      <td>David Nutter</td>\n",
       "      <td>9</td>\n",
       "    </tr>\n",
       "    <tr>\n",
       "      <th>1</th>\n",
       "      <td>Alan Taylor</td>\n",
       "      <td>7</td>\n",
       "    </tr>\n",
       "    <tr>\n",
       "      <th>2</th>\n",
       "      <td>Miguel Sapochnik</td>\n",
       "      <td>6</td>\n",
       "    </tr>\n",
       "    <tr>\n",
       "      <th>3</th>\n",
       "      <td>Alex Graves</td>\n",
       "      <td>6</td>\n",
       "    </tr>\n",
       "    <tr>\n",
       "      <th>4</th>\n",
       "      <td>Jeremy Podeswa</td>\n",
       "      <td>6</td>\n",
       "    </tr>\n",
       "    <tr>\n",
       "      <th>5</th>\n",
       "      <td>Mark Mylod</td>\n",
       "      <td>6</td>\n",
       "    </tr>\n",
       "    <tr>\n",
       "      <th>6</th>\n",
       "      <td>Daniel Minahan</td>\n",
       "      <td>5</td>\n",
       "    </tr>\n",
       "    <tr>\n",
       "      <th>7</th>\n",
       "      <td>Alik Sakharov</td>\n",
       "      <td>4</td>\n",
       "    </tr>\n",
       "    <tr>\n",
       "      <th>8</th>\n",
       "      <td>Michelle MacLaren</td>\n",
       "      <td>4</td>\n",
       "    </tr>\n",
       "    <tr>\n",
       "      <th>9</th>\n",
       "      <td>Brian Kirk</td>\n",
       "      <td>3</td>\n",
       "    </tr>\n",
       "  </tbody>\n",
       "</table>\n",
       "</div>"
      ],
      "text/plain": [
       "            Director  Title\n",
       "0       David Nutter      9\n",
       "1        Alan Taylor      7\n",
       "2   Miguel Sapochnik      6\n",
       "3        Alex Graves      6\n",
       "4     Jeremy Podeswa      6\n",
       "5         Mark Mylod      6\n",
       "6     Daniel Minahan      5\n",
       "7      Alik Sakharov      4\n",
       "8  Michelle MacLaren      4\n",
       "9         Brian Kirk      3"
      ]
     },
     "execution_count": 33,
     "metadata": {},
     "output_type": "execute_result"
    }
   ],
   "source": [
    "top10_dir = director_count.head(10).reset_index()\n",
    "top10_dir"
   ]
  },
  {
   "cell_type": "code",
   "execution_count": 34,
   "id": "b2574215",
   "metadata": {},
   "outputs": [
    {
     "data": {
      "text/plain": [
       "Text(0, 0.5, 'No Of Episodes')"
      ]
     },
     "execution_count": 34,
     "metadata": {},
     "output_type": "execute_result"
    },
    {
     "data": {
      "image/png": "[encoded data removed]",
      "text/plain": [
       "<Figure size 1800x500 with 1 Axes>"
      ]
     },
     "metadata": {},
     "output_type": "display_data"
    }
   ],
   "source": [
    "plt.figure(figsize=(18,5))\n",
    "sns.barplot(x=top10_dir['Director'], y=top10_dir['Title'], palette='Blues')\n",
    "plt.title('Top 10 High-Rated Episodes', fontsize=15)\n",
    "plt.xlabel('Directed By')\n",
    "plt.ylabel('No Of Episodes')"
   ]
  },
  {
   "cell_type": "markdown",
   "id": "fcd70876",
   "metadata": {},
   "source": [
    "* David Nutter has directed the maximum no of episodes i.e 9."
   ]
  },
  {
   "cell_type": "code",
   "execution_count": 35,
   "id": "31e51192",
   "metadata": {},
   "outputs": [
    {
     "data": {
      "text/html": [
       "<div>\n",
       "<style scoped>\n",
       "    .dataframe tbody tr th:only-of-type {\n",
       "        vertical-align: middle;\n",
       "    }\n",
       "\n",
       "    .dataframe tbody tr th {\n",
       "        vertical-align: top;\n",
       "    }\n",
       "\n",
       "    .dataframe thead th {\n",
       "        text-align: right;\n",
       "    }\n",
       "</style>\n",
       "<table border=\"1\" class=\"dataframe\">\n",
       "  <thead>\n",
       "    <tr style=\"text-align: right;\">\n",
       "      <th></th>\n",
       "      <th>Director</th>\n",
       "      <th>Episode Count</th>\n",
       "    </tr>\n",
       "  </thead>\n",
       "  <tbody>\n",
       "    <tr>\n",
       "      <th>10</th>\n",
       "      <td>Matt Shakman</td>\n",
       "      <td>2</td>\n",
       "    </tr>\n",
       "    <tr>\n",
       "      <th>11</th>\n",
       "      <td>Neil Marshall</td>\n",
       "      <td>2</td>\n",
       "    </tr>\n",
       "    <tr>\n",
       "      <th>12</th>\n",
       "      <td>Michael Slovis</td>\n",
       "      <td>2</td>\n",
       "    </tr>\n",
       "    <tr>\n",
       "      <th>13</th>\n",
       "      <td>David Petrarca</td>\n",
       "      <td>2</td>\n",
       "    </tr>\n",
       "    <tr>\n",
       "      <th>14</th>\n",
       "      <td>Jack Bender</td>\n",
       "      <td>2</td>\n",
       "    </tr>\n",
       "    <tr>\n",
       "      <th>15</th>\n",
       "      <td>David Benioff</td>\n",
       "      <td>2</td>\n",
       "    </tr>\n",
       "    <tr>\n",
       "      <th>16</th>\n",
       "      <td>Daniel Sackheim</td>\n",
       "      <td>2</td>\n",
       "    </tr>\n",
       "    <tr>\n",
       "      <th>17</th>\n",
       "      <td>Timothy Van Patten</td>\n",
       "      <td>2</td>\n",
       "    </tr>\n",
       "    <tr>\n",
       "      <th>18</th>\n",
       "      <td>D.B. Weiss</td>\n",
       "      <td>1</td>\n",
       "    </tr>\n",
       "  </tbody>\n",
       "</table>\n",
       "</div>"
      ],
      "text/plain": [
       "              Director  Episode Count\n",
       "10        Matt Shakman              2\n",
       "11       Neil Marshall              2\n",
       "12      Michael Slovis              2\n",
       "13      David Petrarca              2\n",
       "14         Jack Bender              2\n",
       "15       David Benioff              2\n",
       "16     Daniel Sackheim              2\n",
       "17  Timothy Van Patten              2\n",
       "18          D.B. Weiss              1"
      ]
     },
     "execution_count": 35,
     "metadata": {},
     "output_type": "execute_result"
    }
   ],
   "source": [
    "director_les_3 = director_count.reset_index()\n",
    "director_les_3.columns= [\"Director\",\"Episode Count\"]\n",
    "\n",
    "director_les_3 = director_les_3[director_les_3['Episode Count'] < 3]\n",
    "director_les_3"
   ]
  },
  {
   "cell_type": "code",
   "execution_count": 36,
   "id": "16ca516a",
   "metadata": {},
   "outputs": [
    {
     "data": {
      "text/plain": [
       "9"
      ]
     },
     "execution_count": 36,
     "metadata": {},
     "output_type": "execute_result"
    }
   ],
   "source": [
    "director_les_3[\"Director\"].count()"
   ]
  },
  {
   "cell_type": "markdown",
   "id": "02993c30",
   "metadata": {},
   "source": [
    "* So, there are 9 directors who directed less than 3 episodes of Game Of Thrones."
   ]
  },
  {
   "cell_type": "code",
   "execution_count": 38,
   "id": "8df158e9",
   "metadata": {},
   "outputs": [
    {
     "data": {
      "text/html": [
       "<div>\n",
       "<style scoped>\n",
       "    .dataframe tbody tr th:only-of-type {\n",
       "        vertical-align: middle;\n",
       "    }\n",
       "\n",
       "    .dataframe tbody tr th {\n",
       "        vertical-align: top;\n",
       "    }\n",
       "\n",
       "    .dataframe thead th {\n",
       "        text-align: right;\n",
       "    }\n",
       "</style>\n",
       "<table border=\"1\" class=\"dataframe\">\n",
       "  <thead>\n",
       "    <tr style=\"text-align: right;\">\n",
       "      <th></th>\n",
       "      <th>Character</th>\n",
       "      <th>Episodes_appeared</th>\n",
       "    </tr>\n",
       "  </thead>\n",
       "  <tbody>\n",
       "    <tr>\n",
       "      <th>0</th>\n",
       "      <td>Tyrion Lannister</td>\n",
       "      <td>67</td>\n",
       "    </tr>\n",
       "    <tr>\n",
       "      <th>1</th>\n",
       "      <td>Jon Snow</td>\n",
       "      <td>62</td>\n",
       "    </tr>\n",
       "    <tr>\n",
       "      <th>2</th>\n",
       "      <td>Cersei Lannister</td>\n",
       "      <td>62</td>\n",
       "    </tr>\n",
       "    <tr>\n",
       "      <th>3</th>\n",
       "      <td>Daenerys Targaryen</td>\n",
       "      <td>62</td>\n",
       "    </tr>\n",
       "    <tr>\n",
       "      <th>4</th>\n",
       "      <td>Sansa Stark</td>\n",
       "      <td>59</td>\n",
       "    </tr>\n",
       "    <tr>\n",
       "      <th>5</th>\n",
       "      <td>Arya Stark</td>\n",
       "      <td>59</td>\n",
       "    </tr>\n",
       "    <tr>\n",
       "      <th>6</th>\n",
       "      <td>Jaime Lannister</td>\n",
       "      <td>55</td>\n",
       "    </tr>\n",
       "    <tr>\n",
       "      <th>7</th>\n",
       "      <td>Jorah Mormont</td>\n",
       "      <td>52</td>\n",
       "    </tr>\n",
       "    <tr>\n",
       "      <th>8</th>\n",
       "      <td>Samwell Tarly</td>\n",
       "      <td>48</td>\n",
       "    </tr>\n",
       "    <tr>\n",
       "      <th>9</th>\n",
       "      <td>Theon Greyjoy</td>\n",
       "      <td>47</td>\n",
       "    </tr>\n",
       "    <tr>\n",
       "      <th>10</th>\n",
       "      <td>Lord Varys</td>\n",
       "      <td>46</td>\n",
       "    </tr>\n",
       "    <tr>\n",
       "      <th>11</th>\n",
       "      <td>Brienne of Tarth</td>\n",
       "      <td>42</td>\n",
       "    </tr>\n",
       "    <tr>\n",
       "      <th>12</th>\n",
       "      <td>Davos Seaworth</td>\n",
       "      <td>42</td>\n",
       "    </tr>\n",
       "    <tr>\n",
       "      <th>13</th>\n",
       "      <td>Petyr 'Littlefinger' Baelish</td>\n",
       "      <td>41</td>\n",
       "    </tr>\n",
       "    <tr>\n",
       "      <th>14</th>\n",
       "      <td>Bran Stark</td>\n",
       "      <td>40</td>\n",
       "    </tr>\n",
       "  </tbody>\n",
       "</table>\n",
       "</div>"
      ],
      "text/plain": [
       "                       Character  Episodes_appeared\n",
       "0               Tyrion Lannister                 67\n",
       "1                       Jon Snow                 62\n",
       "2               Cersei Lannister                 62\n",
       "3             Daenerys Targaryen                 62\n",
       "4                    Sansa Stark                 59\n",
       "5                     Arya Stark                 59\n",
       "6                Jaime Lannister                 55\n",
       "7                  Jorah Mormont                 52\n",
       "8                  Samwell Tarly                 48\n",
       "9                  Theon Greyjoy                 47\n",
       "10                    Lord Varys                 46\n",
       "11              Brienne of Tarth                 42\n",
       "12                Davos Seaworth                 42\n",
       "13  Petyr 'Littlefinger' Baelish                 41\n",
       "14                    Bran Stark                 40"
      ]
     },
     "execution_count": 38,
     "metadata": {},
     "output_type": "execute_result"
    }
   ],
   "source": [
    "got_char_pop = gote[['Character','Episodes_appeared']].sort_values('Episodes_appeared', ascending=False).head(15).reset_index(drop=True)\n",
    "got_char_pop"
   ]
  },
  {
   "cell_type": "code",
   "execution_count": 39,
   "id": "a5d40378",
   "metadata": {},
   "outputs": [
    {
     "data": {
      "text/plain": [
       "(array([ 0,  1,  2,  3,  4,  5,  6,  7,  8,  9, 10, 11, 12, 13, 14]),\n",
       " [Text(0, 0, 'Tyrion Lannister'),\n",
       "  Text(0, 1, 'Jon Snow'),\n",
       "  Text(0, 2, 'Cersei Lannister'),\n",
       "  Text(0, 3, 'Daenerys Targaryen'),\n",
       "  Text(0, 4, 'Sansa Stark'),\n",
       "  Text(0, 5, 'Arya Stark'),\n",
       "  Text(0, 6, 'Jaime Lannister'),\n",
       "  Text(0, 7, 'Jorah Mormont'),\n",
       "  Text(0, 8, 'Samwell Tarly'),\n",
       "  Text(0, 9, 'Theon Greyjoy'),\n",
       "  Text(0, 10, 'Lord Varys'),\n",
       "  Text(0, 11, 'Brienne of Tarth'),\n",
       "  Text(0, 12, 'Davos Seaworth'),\n",
       "  Text(0, 13, \"Petyr 'Littlefinger' Baelish\"),\n",
       "  Text(0, 14, 'Bran Stark')])"
      ]
     },
     "execution_count": 39,
     "metadata": {},
     "output_type": "execute_result"
    },
    {
     "data": {
      "image/png": "[encoded data removed]",
      "text/plain": [
       "<Figure size 1000x700 with 1 Axes>"
      ]
     },
     "metadata": {},
     "output_type": "display_data"
    }
   ],
   "source": [
    "plt.figure(figsize=(10,7))\n",
    "sns.barplot(y=got_char_pop.Character, x=got_char_pop.Episodes_appeared, palette='magma', orient='h')\n",
    "plt.title('Most Appearance By Character', fontsize=15)\n",
    "plt.xlabel('Character')\n",
    "plt.ylabel('Episodes')\n",
    "plt.xticks(fontsize=12)\n",
    "plt.yticks(fontsize=12)"
   ]
  },
  {
   "cell_type": "markdown",
   "id": "4d7326cc",
   "metadata": {},
   "source": [
    "*  Tyrion has appeared in maximum episodes followed by John, Cersi & Danny."
   ]
  },
  {
   "cell_type": "code",
   "execution_count": null,
   "id": "759f625e",
   "metadata": {},
   "outputs": [],
   "source": []
  }
 ],
 "metadata": {
  "kernelspec": {
   "display_name": "Python 3 (ipykernel)",
   "language": "python",
   "name": "python3"
  },
  "language_info": {
   "codemirror_mode": {
    "name": "ipython",
    "version": 3
   },
   "file_extension": ".py",
   "mimetype": "text/x-python",
   "name": "python",
   "nbconvert_exporter": "python",
   "pygments_lexer": "ipython3",
   "version": "3.11.4"
  }
 },
 "nbformat": 4,
 "nbformat_minor": 5
}
